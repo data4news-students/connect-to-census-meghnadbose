{
 "cells": [
  {
   "cell_type": "markdown",
   "metadata": {},
   "source": [
    "# Notebook Title"
   ]
  },
  {
   "cell_type": "markdown",
   "metadata": {},
   "source": [
    "## Setup Python and R environment\n",
    "you can ignore this section"
   ]
  },
  {
   "cell_type": "code",
   "execution_count": 5,
   "metadata": {},
   "outputs": [],
   "source": [
    "%load_ext rpy2.ipython\n",
    "%load_ext autoreload\n",
    "%autoreload 2\n",
    "\n",
    "%matplotlib inline  \n",
    "from matplotlib import rcParams\n",
    "rcParams['figure.figsize'] = (16, 100)\n",
    "\n",
    "import warnings\n",
    "from rpy2.rinterface import RRuntimeWarning\n",
    "warnings.filterwarnings(\"ignore\") # Ignore all warnings\n",
    "# warnings.filterwarnings(\"ignore\", category=RRuntimeWarning) # Show some warnings\n",
    "\n",
    "import pandas as pd\n",
    "import numpy as np\n",
    "import matplotlib.pyplot as plt\n",
    "from IPython.display import display, HTML"
   ]
  },
  {
   "cell_type": "code",
   "execution_count": 6,
   "metadata": {},
   "outputs": [
    {
     "data": {
      "application/javascript": "// Disable auto-scrolling\nIPython.OutputArea.prototype._should_scroll = function(lines) {\n    return false;\n}\n",
      "text/plain": [
       "<IPython.core.display.Javascript object>"
      ]
     },
     "metadata": {},
     "output_type": "display_data"
    }
   ],
   "source": [
    "%%javascript\n",
    "// Disable auto-scrolling\n",
    "IPython.OutputArea.prototype._should_scroll = function(lines) {\n",
    "    return false;\n",
    "}"
   ]
  },
  {
   "cell_type": "code",
   "execution_count": 7,
   "metadata": {},
   "outputs": [
    {
     "name": "stdout",
     "output_type": "stream",
     "text": [
      "── Attaching core tidyverse packages ──────────────────────── tidyverse 2.0.0 ──\n",
      "✔ dplyr     1.1.4     ✔ readr     2.1.5\n",
      "✔ forcats   1.0.0     ✔ stringr   1.5.1\n",
      "✔ ggplot2   3.4.4     ✔ tibble    3.2.1\n",
      "✔ lubridate 1.9.3     ✔ tidyr     1.3.0\n",
      "✔ purrr     1.0.2     \n",
      "── Conflicts ────────────────────────────────────────── tidyverse_conflicts() ──\n",
      "✖ dplyr::filter() masks stats::filter()\n",
      "✖ dplyr::lag()    masks stats::lag()\n",
      "ℹ Use the conflicted package (<http://conflicted.r-lib.org/>) to force all conflicts to become errors\n"
     ]
    },
    {
     "data": {
      "text/plain": [
       "Loading required package: tidyverse\n"
      ]
     },
     "metadata": {},
     "output_type": "display_data"
    }
   ],
   "source": [
    "%%R\n",
    "\n",
    "# My commonly used R imports\n",
    "\n",
    "require('tidyverse')"
   ]
  },
  {
   "cell_type": "markdown",
   "metadata": {},
   "source": [
    "## 👉 download your data\n",
    "\n",
    "You can write code here to download your dataset. Or if you already have it, just leave the URL in the comments and just load it into a pandas or R (or both) dataframe."
   ]
  },
  {
   "cell_type": "code",
   "execution_count": 8,
   "metadata": {},
   "outputs": [
    {
     "name": "stdout",
     "output_type": "stream",
     "text": [
      "  Unique.Key           Created.Date            Closed.Date Agency\n",
      "1   59892199 12/31/2023 11:38:00 PM 01/05/2024 07:45:00 AM    DEP\n",
      "2   59889491 12/31/2023 11:17:00 PM 01/05/2024 07:30:00 AM    DEP\n",
      "3   59893098 12/31/2023 11:08:00 PM 01/05/2024 07:32:00 AM    DEP\n",
      "4   59886784 12/31/2023 10:53:00 PM 01/03/2024 09:24:00 AM    DEP\n",
      "5   59887730 12/31/2023 10:38:00 PM 01/11/2024 08:56:00 AM    DEP\n",
      "6   59890331 12/31/2023 10:26:00 PM 01/17/2024 08:45:00 PM    DEP\n",
      "                             Agency.Name Complaint.Type\n",
      "1 Department of Environmental Protection          Noise\n",
      "2 Department of Environmental Protection          Noise\n",
      "3 Department of Environmental Protection          Noise\n",
      "4 Department of Environmental Protection          Noise\n",
      "5 Department of Environmental Protection          Noise\n",
      "6 Department of Environmental Protection          Noise\n",
      "                Descriptor Location.Type Incident.Zip          Incident.Address\n",
      "1 Noise, Barking Dog (NR5)            NA        10011      200 WEST   20 STREET\n",
      "2 Noise, Barking Dog (NR5)            NA        11105           20-48 31 STREET\n",
      "3 Noise, Barking Dog (NR5)            NA        11209           9101 SHORE ROAD\n",
      "4 Noise, Barking Dog (NR5)            NA        11225      320 EMPIRE BOULEVARD\n",
      "5 Noise, Barking Dog (NR5)            NA        11379           69-68 75 STREET\n",
      "6 Noise, Barking Dog (NR5)            NA        11374 62-09 WOODHAVEN BOULEVARD\n",
      "          Street.Name Cross.Street.1 Cross.Street.2 Intersection.Street.1\n",
      "1    WEST   20 STREET          7 AVE          8 AVE                      \n",
      "2           31 STREET          20 RD         21 AVE                      \n",
      "3          SHORE ROAD          91 ST          92 ST                      \n",
      "4    EMPIRE BOULEVARD     ROGERS AVE   NOSTRAND AVE                      \n",
      "5           75 STREET          69 RD         71 AVE                      \n",
      "6 WOODHAVEN BOULEVARD         62 AVE          62 RD                      \n",
      "  Intersection.Street.2 Address.Type           City Landmark Facility.Type\n",
      "1                            ADDRESS       NEW YORK       NA           N/A\n",
      "2                            ADDRESS        ASTORIA       NA           N/A\n",
      "3                            ADDRESS       BROOKLYN       NA           N/A\n",
      "4                            ADDRESS       BROOKLYN       NA           N/A\n",
      "5                            ADDRESS MIDDLE VILLAGE       NA           N/A\n",
      "6                            ADDRESS      REGO PARK       NA           N/A\n",
      "  Status Due.Date\n",
      "1 Closed       NA\n",
      "2 Closed       NA\n",
      "3 Closed       NA\n",
      "4 Closed       NA\n",
      "5 Closed       NA\n",
      "6 Closed       NA\n",
      "                                                                                                                                                                                                                                                                                                                             Resolution.Description\n",
      "1                                                                                                                                                                              The Department of Environmental Protection determined that this complaint is a duplicate of a previously filed complaint. The original complaint is being addressed.\n",
      "2                                                                                                                                                                              The Department of Environmental Protection determined that this complaint is a duplicate of a previously filed complaint. The original complaint is being addressed.\n",
      "3                                                                                                                                                                              The Department of Environmental Protection determined that this complaint is a duplicate of a previously filed complaint. The original complaint is being addressed.\n",
      "4                                                The Department of Environmental Protection (DEP) closed your Service Request because it didn't include your full name and address. DEP needs this information to respond to the complaint.  If the excessive barking continues, please file a new Service Request with your full name and address.\n",
      "5                                                                                                                                                                                                                                                                                                                                                  \n",
      "6 The Department of Environmental Protection (DEP) didn't observe a violation of the NYC Air or Noise Code at the time of inspection and couldn't issue a summons.  If the problem still exists, please go to nyc.gov/311 or call 311 to file a new Service Request. If you're outside of New York City, please call (212) NEW-YORK (212-639-9675).\n",
      "  Resolution.Action.Updated.Date Community.Board        BBL   Borough\n",
      "1         01/05/2024 07:45:00 AM    04 MANHATTAN 1007697503 MANHATTAN\n",
      "2         01/05/2024 07:30:00 AM       01 QUEENS 4008480056    QUEENS\n",
      "3         01/05/2024 07:32:00 AM     10 BROOKLYN 3060830001  BROOKLYN\n",
      "4         01/03/2024 09:24:00 AM     09 BROOKLYN 3013150027  BROOKLYN\n",
      "5         01/11/2024 08:56:00 AM       05 QUEENS 4037930091    QUEENS\n",
      "6         01/17/2024 08:45:00 PM       06 QUEENS 4031060020    QUEENS\n",
      "  X.Coordinate..State.Plane. Y.Coordinate..State.Plane. Open.Data.Channel.Type\n",
      "1                     985027                     209716                  PHONE\n",
      "2                    1009879                     223028                 ONLINE\n",
      "3                     973087                     165709                 ONLINE\n",
      "4                     997615                     181137                 ONLINE\n",
      "5                    1018671                     197150                 ONLINE\n",
      "6                    1020153                     204075                 ONLINE\n",
      "  Park.Facility.Name Park.Borough Vehicle.Type Taxi.Company.Borough\n",
      "1        Unspecified    MANHATTAN           NA                   NA\n",
      "2        Unspecified       QUEENS           NA                   NA\n",
      "3        Unspecified     BROOKLYN           NA                   NA\n",
      "4        Unspecified     BROOKLYN           NA                   NA\n",
      "5        Unspecified       QUEENS           NA                   NA\n",
      "6        Unspecified       QUEENS           NA                   NA\n",
      "  Taxi.Pick.Up.Location Bridge.Highway.Name Bridge.Highway.Direction Road.Ramp\n",
      "1                    NA                  NA                       NA        NA\n",
      "2                    NA                  NA                       NA        NA\n",
      "3                    NA                  NA                       NA        NA\n",
      "4                    NA                  NA                       NA        NA\n",
      "5                    NA                  NA                       NA        NA\n",
      "6                    NA                  NA                       NA        NA\n",
      "  Bridge.Highway.Segment Latitude Longitude\n",
      "1                     NA 40.74230 -73.99720\n",
      "2                     NA 40.77880 -73.90746\n",
      "3                     NA 40.62150 -74.04021\n",
      "4                     NA 40.66385 -73.95183\n",
      "5                     NA 40.70774 -73.87585\n",
      "6                     NA 40.72674 -73.87047\n",
      "                                  Location Zip.Codes Community.Districts\n",
      "1   (40.74229855036219, -73.9971960077376)     12074                  12\n",
      "2  (40.77879945224433, -73.90746084482406)     16862                  39\n",
      "3 (40.621502367893385, -74.04021147860065)     17216                  10\n",
      "4     (40.66384585760712, -73.95182589137)     13509                  17\n",
      "5  (40.70774101366322, -73.87584785802241)     15309                  54\n",
      "6  (40.72674256738651, -73.87046554571387)     14785                  40\n",
      "  Borough.Boundaries City.Council.Districts Police.Precincts Police.Precinct\n",
      "1                  4                     10                6               6\n",
      "2                  3                      4               72              72\n",
      "3                  2                     44               41              41\n",
      "4                  2                     11               44              44\n",
      "5                  3                     34               62              62\n",
      "6                  3                     28               70              70\n"
     ]
    }
   ],
   "source": [
    "%%R\n",
    "\n",
    "#Import the csv file 311_Dogs_Data.csv\n",
    "df <- read.csv('311_dogs_data_2023.csv')\n",
    "\n",
    "#Show the first few rows of the dataframe\n",
    "head(df)\n"
   ]
  },
  {
   "cell_type": "code",
   "execution_count": 9,
   "metadata": {},
   "outputs": [
    {
     "data": {
      "text/plain": [
       "To enable caching of data, set `options(tigris_use_cache = TRUE)`\n",
       "in your R script or .Rprofile.\n",
       "Linking to GEOS 3.12.1, GDAL 3.8.3, PROJ 9.3.1; sf_use_s2() is TRUE\n"
      ]
     },
     "metadata": {},
     "output_type": "display_data"
    }
   ],
   "source": [
    "%%R\n",
    "\n",
    "library(tigris)\n",
    "library(sf)\n",
    "library(dplyr)\n"
   ]
  },
  {
   "cell_type": "markdown",
   "metadata": {},
   "source": [
    "#The following code would work on Python 3.10.3 - but we couldn't figure out how to change the environment to 3.10.3. Therefore, Aishi ran it on her system and gave me the file.\n",
    "\n",
    "import pandas as pd \n",
    "import censusgeocode as cg\n",
    "from concurrent.futures import ThreadPoolExecutor\n",
    "from tqdm.notebook import tqdm\n",
    "import glob\n",
    "import json\n",
    "import requests\n",
    "import pandas as pd\n",
    "from pprint import pprint\n",
    "from tqdm import tqdm\n",
    "\n",
    "\n",
    "import requests_cache\n",
    "cache = requests_cache.CachedSession(\"geocode_cache\", backend=\"filesystem\")\n",
    "\n",
    "def geocode(lat, lng):\n",
    "    try:\n",
    "        url = \"https://geocoding.geo.census.gov/geocoder/geographies/coordinates\"\n",
    "        params = {\n",
    "            \"x\": lng,\n",
    "            \"y\": lat,\n",
    "            \"benchmark\": \"Public_AR_Census2020\",\n",
    "            \"vintage\": \"Census2020_Census2020\",\n",
    "            \"format\": \"json\"\n",
    "        }\n",
    "        response = cache.get(url, params=params)\n",
    "        response.raise_for_status()\n",
    "        data = response.json()\n",
    "        census = data['result']['geographies']['Census Blocks'][0]\n",
    "        return census\n",
    "    except Exception as e:\n",
    "        print(f\"Error geocoding ({lat}, {lng}): {e}\")\n",
    "        return None\n",
    "\n",
    "def bulk_geocode(latitudes, longitudes):\n",
    "    \"\"\"\n",
    "    Geocode a list of latitudes and longitudes in parallel (for speed).\n",
    "    \"\"\"\n",
    "\n",
    "    with ThreadPoolExecutor() as tpe:\n",
    "        latitudes = df['Latitude']\n",
    "        longitudes = df['Longitude']\n",
    "        mapped_results = tpe.map(geocode, latitudes, longitudes)\n",
    "        data = list(tqdm(mapped_results, total=len(df)))\n",
    "\n",
    "    return pd.DataFrame(data)\n",
    "\n",
    "census_geos_df = bulk_geocode(df['Latitude'], df['Longitude']) \n",
    "\n",
    "to_keep = ['GEOID', 'STATE', 'COUNTY', 'TRACT', 'BLOCK']\n",
    "census_geos_df = census_geos_df[to_keep]\n",
    "census_geos_df\n",
    "\n",
    "df_with_geos = pd.concat(\n",
    "    [ \n",
    "        df.reset_index(drop=True),\n",
    "        census_geos_df.reset_index(drop=True)\n",
    "    ], \n",
    "    axis=1)\n"
   ]
  },
  {
   "cell_type": "code",
   "execution_count": 15,
   "metadata": {},
   "outputs": [],
   "source": [
    "%%R\n",
    "\n",
    "#Import the processed csv file \n",
    "df <- read.csv('311_processed.csv')"
   ]
  },
  {
   "cell_type": "code",
   "execution_count": 16,
   "metadata": {},
   "outputs": [
    {
     "name": "stdout",
     "output_type": "stream",
     "text": [
      "  Unique.Key           Created.Date            Closed.Date Agency\n",
      "1   59892199 12/31/2023 11:38:00 PM 01/05/2024 07:45:00 AM    DEP\n",
      "2   59889491 12/31/2023 11:17:00 PM 01/05/2024 07:30:00 AM    DEP\n",
      "3   59893098"
     ]
    },
    {
     "name": "stdout",
     "output_type": "stream",
     "text": [
      " 12/31/2023 11:08:00 PM 01/05/2024 07:32:00 AM    DEP\n",
      "4   59886784 12/31/2023 10:53:00 PM 01/03/2024 09:24:00 AM    DEP\n",
      "5   59887730 12/31/2023 10:38:00 PM 01/11/2024 08:56:00 AM    DEP\n",
      "6   59890331 12/31/2023 10:26:00 PM 01/17/2024 08:45:00 PM    DEP\n",
      "                             Agency.Name Complaint.Type\n",
      "1 Department of Environmental Protection          Noise\n",
      "2 Department of Environmental Protection          Noise\n",
      "3 Department of Environmental Protection          Noise\n",
      "4 Department of Environmental Protection          Noise\n",
      "5 Department of Environmental Protection          Noise\n",
      "6 Department of Environmental Protection          Noise\n",
      "                Descriptor Location.Type Incident.Zip          Incident.Address\n",
      "1 Noise, Barking Dog (NR5)            NA        10011      200 WEST   20 STREET\n",
      "2 Noise, Barking Dog (NR5)            NA        11105           20-48 31 STREET\n",
      "3 Noise, Barking Dog (NR5)            NA        11209           9101 SHORE ROAD\n",
      "4 Noise, Barking Dog (NR5)            NA        11225      320 EMPIRE BOULEVARD\n",
      "5 Noise, Barking Dog (NR5)            NA        11379           69-68 75 STREET\n",
      "6 Noise, Barking Dog (NR5)            NA        11374 62-09 WOODHAVEN BOULEVARD\n",
      "          Street.Name Cross.Street.1 Cross.Street.2 Intersection.Street.1\n",
      "1    WEST   20 STREET          7 AVE          8 AVE                      \n",
      "2           31 STREET          20 RD         21 AVE                      \n",
      "3          SHORE ROAD          91 ST          92 ST                      \n",
      "4    EMPIRE BOULEVARD     ROGERS AVE   NOSTRAND AVE                      \n",
      "5           75 STREET          69 RD         71 AVE                      \n",
      "6 WOODHAVEN BOULEVARD         62 AVE          62 RD                      \n",
      "  Intersection.Street.2 Address.Type           City Landmark Facility.Type\n",
      "1                            ADDRESS       NEW YORK       NA            NA\n",
      "2                            ADDRESS        ASTORIA       NA            NA\n",
      "3                            ADDRESS       BROOKLYN       NA            NA\n",
      "4                            ADDRESS       BROOKLYN       NA            NA\n",
      "5                            ADDRESS MIDDLE VILLAGE       NA            NA\n",
      "6                            ADDRESS      REGO PARK       NA            NA\n",
      "  Status Due.Date\n",
      "1 Closed       NA\n",
      "2 Closed       NA\n",
      "3 Closed       NA\n",
      "4 Closed       NA\n",
      "5 Closed       NA\n",
      "6 Closed       NA\n",
      "                                                                                                                                                                                                                                                                                                                             Resolution.Description\n",
      "1                                                                                                                                                                              The Department of Environmental Protection determined that this complaint is a duplicate of a previously filed complaint. The original complaint is being addressed.\n",
      "2                                                                                                                                                                              The Department of Environmental Protection determined that this complaint is a duplicate of a previously filed complaint. The original complaint is being addressed.\n",
      "3                                                                                                                                                                              The Department of Environmental Protection determined that this complaint is a duplicate of a previously filed complaint. The original complaint is being addressed.\n",
      "4                                                The Department of Environmental Protection (DEP) closed your Service Request because it didn't include your full name and address. DEP needs this information to respond to the complaint.  If the excessive barking continues, please file a new Service Request with your full name and address.\n",
      "5                                                                                                                                                                                                                                                                                                                                                  \n",
      "6 The Department of Environmental Protection (DEP) didn't observe a violation of the NYC Air or Noise Code at the time of inspection and couldn't issue a summons.  If the problem still exists, please go to nyc.gov/311 or call 311 to file a new Service Request. If you're outside of New York City, please call (212) NEW-YORK (212-639-9675).\n",
      "  Resolution.Action.Updated.Date Community.Board        BBL   Borough\n",
      "1         01/05/2024 07:45:00 AM    04 MANHATTAN 1007697503 MANHATTAN\n",
      "2         01/05/2024 07:30:00 AM       01 QUEENS 4008480056    QUEENS\n",
      "3         01/05/2024 07:32:00 AM     10 BROOKLYN 3060830001  BROOKLYN\n",
      "4         01/03/2024 09:24:00 AM     09 BROOKLYN 3013150027  BROOKLYN\n",
      "5         01/11/2024 08:56:00 AM       05 QUEENS 4037930091    QUEENS\n",
      "6         01/17/2024 08:45:00 PM       06 QUEENS 4031060020    QUEENS\n",
      "  X.Coordinate..State.Plane. Y.Coordinate..State.Plane. Open.Data.Channel.Type\n",
      "1                     985027                     209716                  PHONE\n",
      "2                    1009879                     223028                 ONLINE\n",
      "3                     973087                     165709                 ONLINE\n",
      "4                     997615                     181137                 ONLINE\n",
      "5                    1018671                     197150                 ONLINE\n",
      "6                    1020153                     204075                 ONLINE\n",
      "  Park.Facility.Name Park.Borough Vehicle.Type Taxi.Company.Borough\n",
      "1        Unspecified    MANHATTAN           NA                   NA\n",
      "2        Unspecified       QUEENS           NA                   NA\n",
      "3        Unspecified     BROOKLYN           NA                   NA\n",
      "4        Unspecified     BROOKLYN           NA                   NA\n",
      "5        Unspecified       QUEENS           NA                   NA\n",
      "6        Unspecified       QUEENS           NA                   NA\n",
      "  Taxi.Pick.Up.Location Bridge.Highway.Name Bridge.Highway.Direction Road.Ramp\n",
      "1                    NA                  NA                       NA        NA\n",
      "2                    NA                  NA                       NA        NA\n",
      "3                    NA                  NA                       NA        NA\n",
      "4                    NA                  NA                       NA        NA\n",
      "5                    NA                  NA                       NA        NA\n",
      "6                    NA                  NA                       NA        NA\n",
      "  Bridge.Highway.Segment Latitude Longitude\n",
      "1                     NA 40.74230 -73.99720\n",
      "2                     NA 40.77880 -73.90746\n",
      "3                     NA 40.62150 -74.04021\n",
      "4                     NA 40.66385 -73.95183\n",
      "5                     NA 40.70774 -73.87585\n",
      "6                     NA 40.72674 -73.87047\n",
      "                                  Location Zip.Codes Community.Districts\n",
      "1   (40.74229855036219, -73.9971960077376)     12074                  12\n",
      "2  (40.77879945224433, -73.90746084482406)     16862                  39\n",
      "3 (40.621502367893385, -74.04021147860065)     17216                  10\n",
      "4     (40.66384585760712, -73.95182589137)     13509                  17\n",
      "5  (40.70774101366322, -73.87584785802241)     15309                  54\n",
      "6  (40.72674256738651, -73.87046554571387)     14785                  40\n",
      "  Borough.Boundaries City.Council.Districts Police.Precincts Police.Precinct\n",
      "1                  4                     10                6               6\n",
      "2                  3                      4               72              72\n",
      "3                  2                     44               41              41\n",
      "4                  2                     11               44              44\n",
      "5                  3                     34               62              62\n",
      "6                  3                     28               70              70\n",
      "         GEOID STATE COUNTY TRACT BLOCK\n",
      "1 3.606101e+14    36     61  8700  1000\n",
      "2 3.608101e+14    36     81 11100  1002\n",
      "3 3.604701e+14    36     47  5201  1006\n",
      "4 3.604703e+14    36     47 32900  4000\n",
      "5 3.608106e+14    36     81 61900  1008\n",
      "6 3.608107e+14    36     81 69500  2004\n"
     ]
    }
   ],
   "source": [
    "%%R\n",
    "\n",
    "head(df)"
   ]
  },
  {
   "cell_type": "markdown",
   "metadata": {},
   "source": [
    "## 👉 convert addresses --> lat/long \n",
    "\n",
    "See the [census-examples](https://github.com/data4news/census-examples) repository for examples. If you need help, try asking in the class slack channel. Chances are someone in the class is struggling with the same problem as you are so we might as well all learn together in the same slack channel! "
   ]
  },
  {
   "cell_type": "markdown",
   "metadata": {},
   "source": [
    "## 👉 convert lat/long to census geography codes \n",
    "\n",
    "(like 'GEOID', 'STATE', 'COUNTY', 'TRACT', 'BLOCK', etc...)\n",
    "\n",
    "Same note as above, see [census-examples](https://github.com/data4news/census-examples) repository for examples or ask in the class slack channel if stuck."
   ]
  },
  {
   "cell_type": "markdown",
   "metadata": {},
   "source": []
  },
  {
   "cell_type": "code",
   "execution_count": null,
   "metadata": {},
   "outputs": [],
   "source": []
  },
  {
   "cell_type": "code",
   "execution_count": null,
   "metadata": {},
   "outputs": [],
   "source": []
  },
  {
   "cell_type": "code",
   "execution_count": null,
   "metadata": {},
   "outputs": [],
   "source": []
  },
  {
   "cell_type": "markdown",
   "metadata": {},
   "source": [
    "## 👉 Output Data\n",
    "\n",
    "Output your dataframe containing your data and the Census connector codes (like tract, block, etc...)."
   ]
  },
  {
   "cell_type": "code",
   "execution_count": null,
   "metadata": {},
   "outputs": [],
   "source": []
  },
  {
   "cell_type": "code",
   "execution_count": null,
   "metadata": {},
   "outputs": [],
   "source": []
  },
  {
   "cell_type": "code",
   "execution_count": null,
   "metadata": {},
   "outputs": [],
   "source": []
  }
 ],
 "metadata": {
  "kernelspec": {
   "display_name": "Python 3 (ipykernel)",
   "language": "python",
   "name": "python3"
  },
  "language_info": {
   "codemirror_mode": {
    "name": "ipython",
    "version": 3
   },
   "file_extension": ".py",
   "mimetype": "text/x-python",
   "name": "python",
   "nbconvert_exporter": "python",
   "pygments_lexer": "ipython3",
   "version": "3.11.6"
  }
 },
 "nbformat": 4,
 "nbformat_minor": 4
}
