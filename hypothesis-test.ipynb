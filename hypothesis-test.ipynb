{
 "cells": [
  {
   "cell_type": "code",
   "execution_count": 46,
   "metadata": {},
   "outputs": [
    {
     "name": "stdout",
     "output_type": "stream",
     "text": [
      "The rpy2.ipython extension is already loaded. To reload it, use:\n",
      "  %reload_ext rpy2.ipython\n",
      "The autoreload extension is already loaded. To reload it, use:\n",
      "  %reload_ext autoreload\n"
     ]
    }
   ],
   "source": [
    "%load_ext rpy2.ipython\n",
    "%load_ext autoreload\n",
    "%autoreload 2\n",
    "\n",
    "%matplotlib inline  \n",
    "from matplotlib import rcParams\n",
    "rcParams['figure.figsize'] = (16, 100)\n",
    "\n",
    "import warnings\n",
    "from rpy2.rinterface import RRuntimeWarning\n",
    "warnings.filterwarnings(\"ignore\") # Ignore all warnings\n",
    "# warnings.filterwarnings(\"ignore\", category=RRuntimeWarning) # Show some warnings\n",
    "\n",
    "import pandas as pd\n",
    "import numpy as np\n",
    "import matplotlib.pyplot as plt\n",
    "from IPython.display import display, HTML"
   ]
  },
  {
   "cell_type": "code",
   "execution_count": 47,
   "metadata": {},
   "outputs": [
    {
     "data": {
      "application/javascript": "// Disable auto-scrolling\nIPython.OutputArea.prototype._should_scroll = function(lines) {\n    return false;\n}\n",
      "text/plain": [
       "<IPython.core.display.Javascript object>"
      ]
     },
     "metadata": {},
     "output_type": "display_data"
    }
   ],
   "source": [
    "%%javascript\n",
    "// Disable auto-scrolling\n",
    "IPython.OutputArea.prototype._should_scroll = function(lines) {\n",
    "    return false;\n",
    "}"
   ]
  },
  {
   "cell_type": "code",
   "execution_count": 48,
   "metadata": {},
   "outputs": [],
   "source": [
    "%%R\n",
    "\n",
    "# My commonly used R imports\n",
    "\n",
    "require('tidyverse')"
   ]
  },
  {
   "cell_type": "code",
   "execution_count": 49,
   "metadata": {},
   "outputs": [
    {
     "name": "stdout",
     "output_type": "stream",
     "text": [
      "  Unique.Key           Created.Date            Closed.Date Agency\n",
      "1   59892199 12/31/2023 11:38:00 PM 01/05/2024 07:45:00 AM    DEP\n",
      "2   59889491 12/31/2023 11:17:00 PM 01/05/2024 07:30:00 AM    DEP\n",
      "3   59893098 12/31/2023 11:08:00 PM 01/05/2024 07:32:00 AM    DEP\n",
      "4   59886784 12/31/2023 10:53:00 PM 01/03/2024 09:24:00 AM    DEP\n",
      "5   59887730 12/31/2023 10:38:00 PM 01/11/2024 08:56:00 AM    DEP\n",
      "6   59890331 12/31/2023 10:26:00 PM 01/17/2024 08:45:00 PM    DEP\n",
      "                             Agency.Name Complaint.Type\n",
      "1 Department of Environmental Protection          Noise\n",
      "2 Department of Environmental Protection          Noise\n",
      "3 Department of Environmental Protection          Noise\n",
      "4 Department of Environmental Protection          Noise\n",
      "5 Department of Environmental Protection          Noise\n",
      "6 Department of Environmental Protection          Noise\n",
      "                Descriptor Location.Type Incident.Zip          Incident.Address\n",
      "1 Noise, Barking Dog (NR5)            NA        10011      200 WEST   20 STREET\n",
      "2 Noise, Barking Dog (NR5)            NA        11105           20-48 31 STREET\n",
      "3 Noise, Barking Dog (NR5)            NA        11209           9101 SHORE ROAD\n",
      "4 Noise, Barking Dog (NR5)            NA        11225      320 EMPIRE BOULEVARD\n",
      "5 Noise, Barking Dog (NR5)            NA        11379           69-68 75 STREET\n",
      "6 Noise, Barking Dog (NR5)            NA        11374 62-09 WOODHAVEN BOULEVARD\n",
      "          Street.Name Cross.Street.1 Cross.Street.2 Intersection.Street.1\n",
      "1    WEST   20 STREET          7 AVE          8 AVE                      \n",
      "2           31 STREET          20 RD         21 AVE                      \n",
      "3          SHORE ROAD          91 ST          92 ST                      \n",
      "4    EMPIRE BOULEVARD     ROGERS AVE   NOSTRAND AVE                      \n",
      "5           75 STREET          69 RD         71 AVE                      \n",
      "6 WOODHAVEN BOULEVARD         62 AVE          62 RD                      \n",
      "  Intersection.Street.2 Address.Type           City Landmark Facility.Type\n",
      "1                            ADDRESS       NEW YORK       NA            NA\n",
      "2                            ADDRESS        ASTORIA       NA            NA\n",
      "3                            ADDRESS       BROOKLYN       NA            NA\n",
      "4                            ADDRESS       BROOKLYN       NA            NA\n",
      "5                            ADDRESS MIDDLE VILLAGE       NA            NA\n",
      "6                            ADDRESS      REGO PARK       NA            NA\n",
      "  Status Due.Date\n",
      "1 Closed       NA\n",
      "2 Closed       NA\n",
      "3 Closed       NA\n",
      "4 Closed       NA\n",
      "5 Closed       NA\n",
      "6 Closed       NA\n",
      "                                                                                                                                                                                                                                                                                                                             Resolution.Description\n",
      "1                                                                                                                                                                              The Department of Environmental Protection determined that this complaint is a duplicate of a previously filed complaint. The original complaint is being addressed.\n",
      "2                                                                                                                                                                              The Department of Environmental Protection determined that this complaint is a duplicate of a previously filed complaint. The original complaint is being addressed.\n",
      "3                                                                                                                                                                              The Department of Environmental Protection determined that this complaint is a duplicate of a previously filed complaint. The original complaint is being addressed.\n",
      "4                                                The Department of Environmental Protection (DEP) closed your Service Request because it didn't include your full name and address. DEP needs this information to respond to the complaint.  If the excessive barking continues, please file a new Service Request with your full name and address.\n",
      "5                                                                                                                                                                                                                                                                                                                                                  \n",
      "6 The Department of Environmental Protection (DEP) didn't observe a violation of the NYC Air or Noise Code at the time of inspection and couldn't issue a summons.  If the problem still exists, please go to nyc.gov/311 or call 311 to file a new Service Request. If you're outside of New York City, please call (212) NEW-YORK (212-639-9675).\n",
      "  Resolution.Action.Updated.Date Community.Board        BBL   Borough\n",
      "1         01/05/2024 07:45:00 AM    04 MANHATTAN 1007697503 MANHATTAN\n",
      "2         01/05/2024 07:30:00 AM       01 QUEENS 4008480056    QUEENS\n",
      "3         01/05/2024 07:32:00 AM     10 BROOKLYN 3060830001  BROOKLYN\n",
      "4         01/03/2024 09:24:00 AM     09 BROOKLYN 3013150027  BROOKLYN\n",
      "5         01/11/2024 08:56:00 AM       05 QUEENS 4037930091    QUEENS\n",
      "6         01/17/2024 08:45:00 PM       06 QUEENS 4031060020    QUEENS\n",
      "  X.Coordinate..State.Plane. Y.Coordinate..State.Plane. Open.Data.Channel.Type\n",
      "1                     985027                     209716                  PHONE\n",
      "2                    1009879                     223028                 ONLINE\n",
      "3                     973087                     165709                 ONLINE\n",
      "4                     997615                     181137                 ONLINE\n",
      "5                    1018671                     197150                 ONLINE\n",
      "6                    1020153                     204075                 ONLINE\n",
      "  Park.Facility.Name Park.Borough Vehicle.Type Taxi.Company.Borough\n",
      "1        Unspecified    MANHATTAN           NA                   NA\n",
      "2        Unspecified       QUEENS           NA                   NA\n",
      "3        Unspecified     BROOKLYN           NA                   NA\n",
      "4        Unspecified     BROOKLYN           NA                   NA\n",
      "5        Unspecified       QUEENS           NA                   NA\n",
      "6        Unspecified       QUEENS           NA                   NA\n",
      "  Taxi.Pick.Up.Location Bridge.Highway.Name Bridge.Highway.Direction Road.Ramp\n",
      "1                    NA                  NA                       NA        NA\n",
      "2                    NA                  NA                       NA        NA\n",
      "3                    NA                  NA                       NA        NA\n",
      "4                    NA                  NA                       NA        NA\n",
      "5                    NA                  NA                       NA        NA\n",
      "6                    NA                  NA                       NA        NA\n",
      "  Bridge.Highway.Segment Latitude Longitude\n",
      "1                     NA 40.74230 -73.99720\n",
      "2                     NA 40.77880 -73.90746\n",
      "3                     NA 40.62150 -74.04021\n",
      "4                     NA 40.66385 -73.95183\n",
      "5                     NA 40.70774 -73.87585\n",
      "6                     NA 40.72674 -73.87047\n",
      "                                  Location Zip.Codes Community.Districts\n",
      "1   (40.74229855036219, -73.9971960077376)     12074                  12\n",
      "2  (40.77879945224433, -73.90746084482406)     16862                  39\n",
      "3 (40.621502367893385, -74.04021147860065)     17216                  10\n",
      "4     (40.66384585760712, -73.95182589137)     13509                  17\n",
      "5  (40.70774101366322, -73.87584785802241)     15309                  54\n",
      "6  (40.72674256738651, -73.87046554571387)     14785                  40\n",
      "  Borough.Boundaries City.Council.Districts Police.Precincts Police.Precinct\n",
      "1                  4                     10                6               6\n",
      "2                  3                      4               72              72\n",
      "3                  2                     44               41              41\n",
      "4                  2                     11               44              44\n",
      "5                  3                     34               62              62\n",
      "6                  3                     28               70              70\n",
      "         GEOID STATE COUNTY TRACT BLOCK\n",
      "1 3.606101e+14    36     61  8700  1000\n",
      "2 3.608101e+14    36     81 11100  1002\n",
      "3 3.604701e+14    36     47  5201  1006\n",
      "4 3.604703e+14    36     47 32900  4000\n",
      "5 3.608106e+14    36     81 61900  1008\n",
      "6 3.608107e+14    36     81 69500  2004\n"
     ]
    }
   ],
   "source": [
    "%%R\n",
    "\n",
    "#Import the csv file 311_Dogs_Data.csv\n",
    "df <- read.csv('311_processed.csv')\n",
    "\n",
    "#Show the first few rows of the dataframe\n",
    "head(df)\n"
   ]
  },
  {
   "cell_type": "code",
   "execution_count": 50,
   "metadata": {},
   "outputs": [
    {
     "data": {
      "image/png": "[encoded data removed]",
      "text/plain": [
       "<IPython.core.display.Image object>"
      ]
     },
     "metadata": {},
     "output_type": "display_data"
    }
   ],
   "source": [
    "%%R\n",
    "\n",
    "# Hypothesis 1: The number of dog-related 311 complaints in the city is the same in all the boroughs\n",
    "# Null Hypothesis: The number of dog-related 311 complaints in the city is the same in all the boroughs\n",
    "# Alternative Hypothesis: The number of dog-related 311 complaints in the city is not the same in all the boroughs\n",
    "\n",
    "# Plot the distribution of dog-related 311 complaints in the city by borough\n",
    "df %>%\n",
    "  ggplot(aes(Borough)) +\n",
    "  geom_bar(fill = 'blue') +\n",
    "  labs(title = 'Distribution of dog-related 311 complaints in the city by borough',\n",
    "       x = 'Borough',\n",
    "       y = 'Number of complaints')\n",
    "       "
   ]
  },
  {
   "cell_type": "code",
   "execution_count": 51,
   "metadata": {},
   "outputs": [
    {
     "name": "stdout",
     "output_type": "stream",
     "text": [
      "\n",
      "\tChi-squared test for given probabilities\n",
      "\n",
      "data:  table(df$Borough)\n",
      "X-squared = 1581.2, df = 4, p-value < 2.2e-16\n",
      "\n"
     ]
    }
   ],
   "source": [
    "%%R\n",
    "\n",
    "# Run a chi-squared test to determine if the number of dog-related 311 complaints in the city is the same in all the boroughs\n",
    "chisq.test(table(df$Borough))\n"
   ]
  },
  {
   "cell_type": "code",
   "execution_count": 52,
   "metadata": {},
   "outputs": [
    {
     "name": "stdout",
     "output_type": "stream",
     "text": [
      "NULL\n"
     ]
    }
   ],
   "source": [
    "%%R\n",
    "\n",
    "# The results of the chi-squared test indicate that the number of dog-related 311 complaints in the city is not the same in all the boroughs (p-value < 0.05). This suggests that there is a significant difference in the number of complaints across the boroughs."
   ]
  },
  {
   "cell_type": "code",
   "execution_count": 69,
   "metadata": {},
   "outputs": [
    {
     "name": "stdout",
     "output_type": "stream",
     "text": [
      "\n",
      "\tWelch Two Sample t-test\n",
      "\n",
      "data:  weekday_complaints and weekend_complaints\n",
      "t = 2.5699, df = 211.41, p-value = 0.01086\n",
      "alternative hypothesis: true difference in means is not equal to 0\n",
      "95 percent confidence interval:\n",
      " 0.4195516 3.1826462\n",
      "sample estimates:\n",
      "mean of x mean of y \n",
      " 21.71538  19.91429 \n",
      "\n"
     ]
    }
   ],
   "source": [
    "%%R\n",
    "\n",
    "# Hypothesis 2: \n",
    "\n",
    "#Null Hypothesis (H0): There is no significant difference in the average volume of noise complaints related to barking dogs between weekdays and weekends.\n",
    "\n",
    "#Alternative Hypothesis (H1): There is a significant difference in the average volume of noise complaints related to barking dogs between weekdays and weekends.\n",
    "\n",
    "library(dplyr)\n",
    "library(lubridate)\n",
    "\n",
    "# Step 1: Read the dataset\n",
    "data <- read.csv('311_processed_modified.csv')\n",
    "\n",
    "# Step 2: Parse the 'Created_Date' column\n",
    "data$Created_Date <- mdy_hms(data$Created_Date)\n",
    "\n",
    "# Step 3: Create a weekday/weekend indicator\n",
    "data$DayType <- ifelse(wday(data$Created_Date) %in% c(1, 7), 'Weekend', 'Weekday')\n",
    "\n",
    "# Step 4: Prepare data for t-test\n",
    "# Aggregate complaints by DayType for each unique day\n",
    "daily_counts <- data %>%\n",
    "  group_by(DayType, Date = as.Date(Created_Date)) %>%\n",
    "  summarise(Complaints = n(), .groups = 'drop')\n",
    "\n",
    "# Separate data into weekday and weekend\n",
    "weekday_complaints <- filter(daily_counts, DayType == 'Weekday')$Complaints\n",
    "weekend_complaints <- filter(daily_counts, DayType == 'Weekend')$Complaints\n",
    "\n",
    "# Perform a t-test\n",
    "t_test_result <- t.test(weekday_complaints, weekend_complaints, alternative = \"two.sided\")\n",
    "\n",
    "# Print the result\n",
    "print(t_test_result)\n"
   ]
  },
  {
   "cell_type": "code",
   "execution_count": 70,
   "metadata": {},
   "outputs": [
    {
     "data": {
      "image/png": "[encoded data removed]",
      "text/plain": [
       "<IPython.core.display.Image object>"
      ]
     },
     "metadata": {},
     "output_type": "display_data"
    }
   ],
   "source": [
    "%%R\n",
    "\n",
    "# Plot the distribution of noise complaints related to barking dogs by day type\n",
    "daily_counts %>%\n",
    "  ggplot(aes(DayType, Complaints, fill = DayType)) +\n",
    "  geom_boxplot() +\n",
    "  labs(title = 'Distribution of noise complaints related to barking dogs by day type',\n",
    "       x = 'Day Type',\n",
    "       y = 'Number of complaints') +\n",
    "  theme(legend.position = 'none')\n",
    "\n",
    "  "
   ]
  },
  {
   "cell_type": "code",
   "execution_count": 72,
   "metadata": {},
   "outputs": [
    {
     "name": "stdout",
     "output_type": "stream",
     "text": [
      "NULL\n"
     ]
    }
   ],
   "source": [
    "%%R\n",
    "\n",
    "#The result of the t-test indicates that there is a significant difference in the average volume of noise complaints related to barking dogs between weekdays and weekends (p-value < 0.05). This suggests that the number of complaints is higher on weekdays compared to weekends."
   ]
  }
 ],
 "metadata": {
  "kernelspec": {
   "display_name": "Python 3",
   "language": "python",
   "name": "python3"
  },
  "language_info": {
   "codemirror_mode": {
    "name": "ipython",
    "version": 3
   },
   "file_extension": ".py",
   "mimetype": "text/x-python",
   "name": "python",
   "nbconvert_exporter": "python",
   "pygments_lexer": "ipython3",
   "version": "3.11.6"
  }
 },
 "nbformat": 4,
 "nbformat_minor": 2
}
