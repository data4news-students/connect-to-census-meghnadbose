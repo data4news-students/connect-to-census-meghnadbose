{
 "cells": [
  {
   "attachments": {},
   "cell_type": "markdown",
   "metadata": {},
   "source": [
    "# 2-D Exploratory Data Analysis\n",
    "\n",
    "In this notebook we will pick ONE variable you're interested in understanding from your non-census data and plot it against various census variables in scatterplots or dotplots."
   ]
  },
  {
   "attachments": {},
   "cell_type": "markdown",
   "metadata": {},
   "source": [
    "### Standard Python and R imports"
   ]
  },
  {
   "cell_type": "code",
   "execution_count": 2,
   "metadata": {},
   "outputs": [
    {
     "name": "stdout",
     "output_type": "stream",
     "text": [
      "The rpy2.ipython extension is already loaded. To reload it, use:\n",
      "  %reload_ext rpy2.ipython\n",
      "The autoreload extension is already loaded. To reload it, use:\n",
      "  %reload_ext autoreload\n"
     ]
    }
   ],
   "source": [
    "%load_ext rpy2.ipython\n",
    "%load_ext autoreload\n",
    "%autoreload 2\n",
    "\n",
    "%matplotlib inline  \n",
    "from matplotlib import rcParams\n",
    "rcParams['figure.figsize'] = (16, 100)\n",
    "\n",
    "import warnings\n",
    "from rpy2.rinterface import RRuntimeWarning\n",
    "warnings.filterwarnings(\"ignore\") # Ignore all warnings\n",
    "# warnings.filterwarnings(\"ignore\", category=RRuntimeWarning) # Show some warnings\n",
    "\n",
    "import pandas as pd\n",
    "import numpy as np\n",
    "import matplotlib.pyplot as plt\n",
    "from IPython.display import display, HTML"
   ]
  },
  {
   "cell_type": "code",
   "execution_count": 3,
   "metadata": {},
   "outputs": [
    {
     "data": {
      "application/javascript": "// Disable auto-scrolling\nIPython.OutputArea.prototype._should_scroll = function(lines) {\n    return false;\n}\n",
      "text/plain": [
       "<IPython.core.display.Javascript object>"
      ]
     },
     "metadata": {},
     "output_type": "display_data"
    }
   ],
   "source": [
    "%%javascript\n",
    "// Disable auto-scrolling\n",
    "IPython.OutputArea.prototype._should_scroll = function(lines) {\n",
    "    return false;\n",
    "}"
   ]
  },
  {
   "cell_type": "code",
   "execution_count": 4,
   "metadata": {},
   "outputs": [
    {
     "name": "stdout",
     "output_type": "stream",
     "text": [
      "── Attaching core tidyverse packages ──────────────────────── tidyverse 2.0.0 ──\n",
      "✔ dplyr     1.1.4     ✔ readr     2.1.5\n",
      "✔ forcats   1.0.0     ✔ stringr   1.5.1\n",
      "✔ ggplot2   3.4.4     ✔ tibble    3.2.1\n",
      "✔ lubridate 1.9.3     ✔ tidyr     1.3.0\n",
      "✔ purrr     1.0.2     \n",
      "── Conflicts ────────────────────────────────────────── tidyverse_conflicts() ──\n",
      "✖ dplyr::filter() masks stats::filter()\n",
      "✖ dplyr::lag()    masks stats::lag()\n",
      "ℹ Use the conflicted package (<http://conflicted.r-lib.org/>) to force all conflicts to become errors\n"
     ]
    },
    {
     "data": {
      "text/plain": [
       "Loading required package: tidyverse\n"
      ]
     },
     "metadata": {},
     "output_type": "display_data"
    }
   ],
   "source": [
    "%%R\n",
    "\n",
    "# My commonly used R imports\n",
    "\n",
    "require('tidyverse')"
   ]
  },
  {
   "attachments": {},
   "cell_type": "markdown",
   "metadata": {},
   "source": [
    "## Load the data"
   ]
  },
  {
   "cell_type": "code",
   "execution_count": 5,
   "metadata": {},
   "outputs": [
    {
     "name": "stdout",
     "output_type": "stream",
     "text": [
      "# A tibble: 7,737 × 52\n",
      "   `Unique Key` `Created Date`         `Closed Date`        Agency `Agency Name`\n",
      "          <dbl> <chr>                  <chr>                <chr>  <chr>        \n",
      " 1     59892199 12/31/2023 11:38:00 PM 01/05/2024 07:45:00… DEP    Department o…\n",
      " 2     59889491 12/31/2023 11:17:00 PM 01/05/2024 07:30:00… DEP    Department o…\n",
      " 3     59893098 12/31/2023 11:08:00 PM 01/05/2024 07:32:00… DEP    Department o…\n",
      " 4     59886784 12/31/2023 10:53:00 PM 01/03/2024 09:24:00… DEP    Department o…\n",
      " 5     59887730 12/31/2023 10:38:00 PM 01/11/2024 08:56:00… DEP    Department o…\n",
      " 6     59890331 12/31/2023 10:26:00 PM 01/17/2024 08:45:00… DEP    Department o…\n",
      " 7     59887731 12/31/2023 08:44:00 PM 01/17/2024 10:00:00… DEP    Department o…\n",
      " 8     59893099 12/31/2023 07:47:00 PM 01/05/2024 07:43:00… DEP    Department o…\n",
      " 9     59888570 12/31/2023 06:35:00 PM 01/05/2024 07:24:00… DEP    Department o…\n",
      "10     59891257 12/31/2023 05:26:00 PM 01/03/2024 11:03:00… DEP    Department o…\n",
      "# ℹ 7,727 more rows\n",
      "# ℹ 47 more variables: `Complaint Type` <chr>, Descriptor <chr>,\n",
      "#   `Location Type` <lgl>, `Incident Zip` <dbl>, `Incident Address` <chr>,\n",
      "#   `Street Name` <chr>, `Cross Street 1` <chr>, `Cross Street 2` <chr>,\n",
      "#   `Intersection Street 1` <lgl>, `Intersection Street 2` <lgl>,\n",
      "#   `Address Type` <chr>, City <chr>, Landmark <lgl>, `Facility Type` <lgl>,\n",
      "#   Status <chr>, `Due Date` <lgl>, `Resolution Description` <chr>, …\n",
      "# ℹ Use `print(n = ...)` to see more rows\n"
     ]
    },
    {
     "data": {
      "text/plain": [
       "In addition: Warning message:\n",
       "One or more parsing issues, call `problems()` on your data frame for details,\n",
       "e.g.:\n",
       "  dat <- vroom(...)\n",
       "  problems(dat) \n"
      ]
     },
     "metadata": {},
     "output_type": "display_data"
    }
   ],
   "source": [
    "%%R\n",
    " \n",
    "# Import data with R\n",
    "df <- read_csv('311_processed.csv', show_col_types = FALSE)\n",
    "df"
   ]
  },
  {
   "cell_type": "code",
   "execution_count": 6,
   "metadata": {},
   "outputs": [
    {
     "data": {
      "text/html": [
       "<div>\n",
       "<style scoped>\n",
       "    .dataframe tbody tr th:only-of-type {\n",
       "        vertical-align: middle;\n",
       "    }\n",
       "\n",
       "    .dataframe tbody tr th {\n",
       "        vertical-align: top;\n",
       "    }\n",
       "\n",
       "    .dataframe thead th {\n",
       "        text-align: right;\n",
       "    }\n",
       "</style>\n",
       "<table border=\"1\" class=\"dataframe\">\n",
       "  <thead>\n",
       "    <tr style=\"text-align: right;\">\n",
       "      <th></th>\n",
       "      <th>Unique Key</th>\n",
       "      <th>Created Date</th>\n",
       "      <th>Closed Date</th>\n",
       "      <th>Agency</th>\n",
       "      <th>Agency Name</th>\n",
       "      <th>Complaint Type</th>\n",
       "      <th>Descriptor</th>\n",
       "      <th>Location Type</th>\n",
       "      <th>Incident Zip</th>\n",
       "      <th>Incident Address</th>\n",
       "      <th>...</th>\n",
       "      <th>Community Districts</th>\n",
       "      <th>Borough Boundaries</th>\n",
       "      <th>City Council Districts</th>\n",
       "      <th>Police Precincts</th>\n",
       "      <th>Police Precinct</th>\n",
       "      <th>GEOID</th>\n",
       "      <th>STATE</th>\n",
       "      <th>COUNTY</th>\n",
       "      <th>TRACT</th>\n",
       "      <th>BLOCK</th>\n",
       "    </tr>\n",
       "  </thead>\n",
       "  <tbody>\n",
       "    <tr>\n",
       "      <th>0</th>\n",
       "      <td>59892199</td>\n",
       "      <td>12/31/2023 11:38:00 PM</td>\n",
       "      <td>01/05/2024 07:45:00 AM</td>\n",
       "      <td>DEP</td>\n",
       "      <td>Department of Environmental Protection</td>\n",
       "      <td>Noise</td>\n",
       "      <td>Noise, Barking Dog (NR5)</td>\n",
       "      <td>NaN</td>\n",
       "      <td>10011</td>\n",
       "      <td>200 WEST   20 STREET</td>\n",
       "      <td>...</td>\n",
       "      <td>12</td>\n",
       "      <td>4</td>\n",
       "      <td>10</td>\n",
       "      <td>6</td>\n",
       "      <td>6</td>\n",
       "      <td>360610087001000</td>\n",
       "      <td>36</td>\n",
       "      <td>61</td>\n",
       "      <td>8700</td>\n",
       "      <td>1000</td>\n",
       "    </tr>\n",
       "    <tr>\n",
       "      <th>1</th>\n",
       "      <td>59889491</td>\n",
       "      <td>12/31/2023 11:17:00 PM</td>\n",
       "      <td>01/05/2024 07:30:00 AM</td>\n",
       "      <td>DEP</td>\n",
       "      <td>Department of Environmental Protection</td>\n",
       "      <td>Noise</td>\n",
       "      <td>Noise, Barking Dog (NR5)</td>\n",
       "      <td>NaN</td>\n",
       "      <td>11105</td>\n",
       "      <td>20-48 31 STREET</td>\n",
       "      <td>...</td>\n",
       "      <td>39</td>\n",
       "      <td>3</td>\n",
       "      <td>4</td>\n",
       "      <td>72</td>\n",
       "      <td>72</td>\n",
       "      <td>360810111001002</td>\n",
       "      <td>36</td>\n",
       "      <td>81</td>\n",
       "      <td>11100</td>\n",
       "      <td>1002</td>\n",
       "    </tr>\n",
       "    <tr>\n",
       "      <th>2</th>\n",
       "      <td>59893098</td>\n",
       "      <td>12/31/2023 11:08:00 PM</td>\n",
       "      <td>01/05/2024 07:32:00 AM</td>\n",
       "      <td>DEP</td>\n",
       "      <td>Department of Environmental Protection</td>\n",
       "      <td>Noise</td>\n",
       "      <td>Noise, Barking Dog (NR5)</td>\n",
       "      <td>NaN</td>\n",
       "      <td>11209</td>\n",
       "      <td>9101 SHORE ROAD</td>\n",
       "      <td>...</td>\n",
       "      <td>10</td>\n",
       "      <td>2</td>\n",
       "      <td>44</td>\n",
       "      <td>41</td>\n",
       "      <td>41</td>\n",
       "      <td>360470052011006</td>\n",
       "      <td>36</td>\n",
       "      <td>47</td>\n",
       "      <td>5201</td>\n",
       "      <td>1006</td>\n",
       "    </tr>\n",
       "    <tr>\n",
       "      <th>3</th>\n",
       "      <td>59886784</td>\n",
       "      <td>12/31/2023 10:53:00 PM</td>\n",
       "      <td>01/03/2024 09:24:00 AM</td>\n",
       "      <td>DEP</td>\n",
       "      <td>Department of Environmental Protection</td>\n",
       "      <td>Noise</td>\n",
       "      <td>Noise, Barking Dog (NR5)</td>\n",
       "      <td>NaN</td>\n",
       "      <td>11225</td>\n",
       "      <td>320 EMPIRE BOULEVARD</td>\n",
       "      <td>...</td>\n",
       "      <td>17</td>\n",
       "      <td>2</td>\n",
       "      <td>11</td>\n",
       "      <td>44</td>\n",
       "      <td>44</td>\n",
       "      <td>360470329004000</td>\n",
       "      <td>36</td>\n",
       "      <td>47</td>\n",
       "      <td>32900</td>\n",
       "      <td>4000</td>\n",
       "    </tr>\n",
       "    <tr>\n",
       "      <th>4</th>\n",
       "      <td>59887730</td>\n",
       "      <td>12/31/2023 10:38:00 PM</td>\n",
       "      <td>01/11/2024 08:56:00 AM</td>\n",
       "      <td>DEP</td>\n",
       "      <td>Department of Environmental Protection</td>\n",
       "      <td>Noise</td>\n",
       "      <td>Noise, Barking Dog (NR5)</td>\n",
       "      <td>NaN</td>\n",
       "      <td>11379</td>\n",
       "      <td>69-68 75 STREET</td>\n",
       "      <td>...</td>\n",
       "      <td>54</td>\n",
       "      <td>3</td>\n",
       "      <td>34</td>\n",
       "      <td>62</td>\n",
       "      <td>62</td>\n",
       "      <td>360810619001008</td>\n",
       "      <td>36</td>\n",
       "      <td>81</td>\n",
       "      <td>61900</td>\n",
       "      <td>1008</td>\n",
       "    </tr>\n",
       "  </tbody>\n",
       "</table>\n",
       "<p>5 rows × 52 columns</p>\n",
       "</div>"
      ],
      "text/plain": [
       "   Unique Key            Created Date             Closed Date Agency  \\\n",
       "0    59892199  12/31/2023 11:38:00 PM  01/05/2024 07:45:00 AM    DEP   \n",
       "1    59889491  12/31/2023 11:17:00 PM  01/05/2024 07:30:00 AM    DEP   \n",
       "2    59893098  12/31/2023 11:08:00 PM  01/05/2024 07:32:00 AM    DEP   \n",
       "3    59886784  12/31/2023 10:53:00 PM  01/03/2024 09:24:00 AM    DEP   \n",
       "4    59887730  12/31/2023 10:38:00 PM  01/11/2024 08:56:00 AM    DEP   \n",
       "\n",
       "                              Agency Name Complaint Type  \\\n",
       "0  Department of Environmental Protection          Noise   \n",
       "1  Department of Environmental Protection          Noise   \n",
       "2  Department of Environmental Protection          Noise   \n",
       "3  Department of Environmental Protection          Noise   \n",
       "4  Department of Environmental Protection          Noise   \n",
       "\n",
       "                 Descriptor  Location Type  Incident Zip  \\\n",
       "0  Noise, Barking Dog (NR5)            NaN         10011   \n",
       "1  Noise, Barking Dog (NR5)            NaN         11105   \n",
       "2  Noise, Barking Dog (NR5)            NaN         11209   \n",
       "3  Noise, Barking Dog (NR5)            NaN         11225   \n",
       "4  Noise, Barking Dog (NR5)            NaN         11379   \n",
       "\n",
       "       Incident Address  ... Community Districts Borough Boundaries  \\\n",
       "0  200 WEST   20 STREET  ...                  12                  4   \n",
       "1       20-48 31 STREET  ...                  39                  3   \n",
       "2       9101 SHORE ROAD  ...                  10                  2   \n",
       "3  320 EMPIRE BOULEVARD  ...                  17                  2   \n",
       "4       69-68 75 STREET  ...                  54                  3   \n",
       "\n",
       "  City Council Districts Police Precincts Police Precinct            GEOID  \\\n",
       "0                     10                6               6  360610087001000   \n",
       "1                      4               72              72  360810111001002   \n",
       "2                     44               41              41  360470052011006   \n",
       "3                     11               44              44  360470329004000   \n",
       "4                     34               62              62  360810619001008   \n",
       "\n",
       "  STATE  COUNTY  TRACT BLOCK  \n",
       "0    36      61   8700  1000  \n",
       "1    36      81  11100  1002  \n",
       "2    36      47   5201  1006  \n",
       "3    36      47  32900  4000  \n",
       "4    36      81  61900  1008  \n",
       "\n",
       "[5 rows x 52 columns]"
      ]
     },
     "execution_count": 6,
     "metadata": {},
     "output_type": "execute_result"
    }
   ],
   "source": [
    "# Import data in python\n",
    "df = pd.read_csv('311_processed.csv')\n",
    "df.head()"
   ]
  },
  {
   "attachments": {},
   "cell_type": "markdown",
   "metadata": {},
   "source": [
    "# Exploratory data analysis\n",
    "\n"
   ]
  },
  {
   "attachments": {},
   "cell_type": "markdown",
   "metadata": {},
   "source": [
    "## 2-D visualizations (aka scatter plots)\n",
    "\n",
    "It seems simple. It's not simple. mainly because...\n",
    "\n",
    "**CORRELATION =/= CAUSATION**\n",
    "\n",
    "Comparing variables to one another can be TRICKY!\n",
    "\n",
    "Let's make some 2-D visualizations (aka scatter plots).\n",
    "\n",
    "Be VERY careful how you phrase the headlines. Take time to think through what you want to say.\n",
    "\n",
    "\n"
   ]
  },
  {
   "cell_type": "code",
   "execution_count": 14,
   "metadata": {},
   "outputs": [
    {
     "data": {
      "image/png": "[encoded data removed]",
      "text/plain": [
       "<IPython.core.display.Image object>"
      ]
     },
     "metadata": {},
     "output_type": "display_data"
    }
   ],
   "source": [
    "%%R\n",
    "\n",
    "# code for scatter plot 1\n",
    "# be sure to include a meaningful title and subtitle\n",
    "\n",
    "# Scatter plot of the number of complaints by the day of the week\n",
    "# Load necessary libraries\n",
    "library(ggplot2)\n",
    "library(dplyr)\n",
    "\n",
    "# Convert 'Created Date' to DateTime and extract the day of the week\n",
    "df$CreatedDate <- as.POSIXct(df$`Created Date`, format=\"%m/%d/%Y %I:%M:%S %p\")\n",
    "df$DayOfWeek <- weekdays(df$CreatedDate, abbreviate=FALSE)\n",
    "\n",
    "# Ensure the order of the days starts with Monday and ends with Sunday\n",
    "df$DayOfWeek <- factor(df$DayOfWeek, levels = c(\"Monday\", \"Tuesday\", \"Wednesday\", \"Thursday\", \"Friday\", \"Saturday\", \"Sunday\"))\n",
    "\n",
    "# Count the number of complaints for each day of the week\n",
    "complaints_by_day <- df %>%\n",
    "  group_by(DayOfWeek) %>%\n",
    "  summarise(Count = n())\n",
    "\n",
    "# Create a scatter plot\n",
    "ggplot(complaints_by_day, aes(x = DayOfWeek, y = Count)) +\n",
    "  geom_point() +\n",
    "  theme_minimal() +\n",
    "  labs(title = \"Least 311 noise complaints about NYC dogs on Sunday\",\n",
    "         subtitle = \"Number of dog-related 311 noise complaints received on each day of the week\",\n",
    "       x = \"Day of the Week\",\n",
    "       y = \"Number of Complaints\")\n"
   ]
  },
  {
   "cell_type": "code",
   "execution_count": null,
   "metadata": {},
   "outputs": [],
   "source": [
    "%%R\n",
    "\n",
    "# code for scatter plot 2\n",
    "# be sure to include a meaningful title and subtitle"
   ]
  },
  {
   "cell_type": "code",
   "execution_count": null,
   "metadata": {},
   "outputs": [],
   "source": [
    "%%R\n",
    "\n",
    "# code for scatter plot 3\n",
    "# be sure to include a meaningful title and subtitle"
   ]
  }
 ],
 "metadata": {
  "kernelspec": {
   "display_name": "Python 3",
   "language": "python",
   "name": "python3"
  },
  "language_info": {
   "codemirror_mode": {
    "name": "ipython",
    "version": 3
   },
   "file_extension": ".py",
   "mimetype": "text/x-python",
   "name": "python",
   "nbconvert_exporter": "python",
   "pygments_lexer": "ipython3",
   "version": "3.11.6"
  },
  "vscode": {
   "interpreter": {
    "hash": "34166945ca6cc351f9d38b360afe1a928411c84fd696a9e2d08d61ef3f7e4692"
   }
  }
 },
 "nbformat": 4,
 "nbformat_minor": 2
}
